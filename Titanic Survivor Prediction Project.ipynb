{
 "cells": [
  {
   "cell_type": "markdown",
   "id": "d1d97eac",
   "metadata": {
    "toc": true
   },
   "source": [
    "<h1>Table of Contents<span class=\"tocSkip\"></span></h1>\n",
    "<div class=\"toc\"><ul class=\"toc-item\"><li><span><a href=\"#Importing-Dependencies\" data-toc-modified-id=\"Importing-Dependencies-1\"><span class=\"toc-item-num\">1&nbsp;&nbsp;</span>Importing Dependencies</a></span></li><li><span><a href=\"#Data-Loading-&amp;-Processing\" data-toc-modified-id=\"Data-Loading-&amp;-Processing-2\"><span class=\"toc-item-num\">2&nbsp;&nbsp;</span>Data Loading &amp; Processing</a></span><ul class=\"toc-item\"><li><span><a href=\"#Handling-the-Missing-values\" data-toc-modified-id=\"Handling-the-Missing-values-2.1\"><span class=\"toc-item-num\">2.1&nbsp;&nbsp;</span>Handling the Missing values</a></span></li><li><span><a href=\"#Data-Analysis\" data-toc-modified-id=\"Data-Analysis-2.2\"><span class=\"toc-item-num\">2.2&nbsp;&nbsp;</span>Data Analysis</a></span></li><li><span><a href=\"#Data-Visualization\" data-toc-modified-id=\"Data-Visualization-2.3\"><span class=\"toc-item-num\">2.3&nbsp;&nbsp;</span>Data Visualization</a></span></li><li><span><a href=\"#Encoding-the-Categorical-Columns\" data-toc-modified-id=\"Encoding-the-Categorical-Columns-2.4\"><span class=\"toc-item-num\">2.4&nbsp;&nbsp;</span>Encoding the Categorical Columns</a></span></li></ul></li><li><span><a href=\"#Separating-features-&amp;-Target\" data-toc-modified-id=\"Separating-features-&amp;-Target-3\"><span class=\"toc-item-num\">3&nbsp;&nbsp;</span>Separating features &amp; Target</a></span></li><li><span><a href=\"#Splitting-the-data-into-training-data-&amp;-Test-data\" data-toc-modified-id=\"Splitting-the-data-into-training-data-&amp;-Test-data-4\"><span class=\"toc-item-num\">4&nbsp;&nbsp;</span>Splitting the data into training data &amp; Test data</a></span></li><li><span><a href=\"#Model-Training\" data-toc-modified-id=\"Model-Training-5\"><span class=\"toc-item-num\">5&nbsp;&nbsp;</span>Model Training</a></span></li><li><span><a href=\"#Model-Evaluation\" data-toc-modified-id=\"Model-Evaluation-6\"><span class=\"toc-item-num\">6&nbsp;&nbsp;</span>Model Evaluation</a></span></li><li><span><a href=\"#Save-the-trained-model\" data-toc-modified-id=\"Save-the-trained-model-7\"><span class=\"toc-item-num\">7&nbsp;&nbsp;</span>Save the trained model</a></span></li></ul></div>"
   ]
  },
  {
   "cell_type": "markdown",
   "id": "09dd27ae",
   "metadata": {},
   "source": [
    "### Importing Dependencies"
   ]
  },
  {
   "cell_type": "code",
   "execution_count": 2,
   "id": "13130612",
   "metadata": {
    "ExecuteTime": {
     "end_time": "2023-08-28T18:11:13.071199Z",
     "start_time": "2023-08-28T18:11:10.147147Z"
    }
   },
   "outputs": [],
   "source": [
    "import numpy as np\n",
    "import pandas as pd\n",
    "import matplotlib.pyplot as plt\n",
    "import seaborn as sns\n",
    "from sklearn.model_selection import train_test_split\n",
    "from sklearn.linear_model import LogisticRegression\n",
    "from sklearn.metrics import accuracy_score\n",
    "import pickle"
   ]
  },
  {
   "cell_type": "markdown",
   "id": "dd9b379e",
   "metadata": {},
   "source": [
    "### Data Loading & Processing"
   ]
  },
  {
   "cell_type": "code",
   "execution_count": 3,
   "id": "5ce9cab3",
   "metadata": {
    "ExecuteTime": {
     "end_time": "2023-08-28T18:11:13.583680Z",
     "start_time": "2023-08-28T18:11:13.073220Z"
    }
   },
   "outputs": [],
   "source": [
    "titanic_data = pd.read_csv('titanic_train.csv')"
   ]
  },
  {
   "cell_type": "code",
   "execution_count": 4,
   "id": "8491c95e",
   "metadata": {
    "ExecuteTime": {
     "end_time": "2023-08-28T18:13:06.552847Z",
     "start_time": "2023-08-28T18:13:06.539175Z"
    }
   },
   "outputs": [
    {
     "data": {
      "text/html": [
       "<div>\n",
       "<style scoped>\n",
       "    .dataframe tbody tr th:only-of-type {\n",
       "        vertical-align: middle;\n",
       "    }\n",
       "\n",
       "    .dataframe tbody tr th {\n",
       "        vertical-align: top;\n",
       "    }\n",
       "\n",
       "    .dataframe thead th {\n",
       "        text-align: right;\n",
       "    }\n",
       "</style>\n",
       "<table border=\"1\" class=\"dataframe\">\n",
       "  <thead>\n",
       "    <tr style=\"text-align: right;\">\n",
       "      <th></th>\n",
       "      <th>PassengerId</th>\n",
       "      <th>Survived</th>\n",
       "      <th>Pclass</th>\n",
       "      <th>Name</th>\n",
       "      <th>Sex</th>\n",
       "      <th>Age</th>\n",
       "      <th>SibSp</th>\n",
       "      <th>Parch</th>\n",
       "      <th>Ticket</th>\n",
       "      <th>Fare</th>\n",
       "      <th>Cabin</th>\n",
       "      <th>Embarked</th>\n",
       "    </tr>\n",
       "  </thead>\n",
       "  <tbody>\n",
       "    <tr>\n",
       "      <th>0</th>\n",
       "      <td>1</td>\n",
       "      <td>0</td>\n",
       "      <td>3</td>\n",
       "      <td>Braund, Mr. Owen Harris</td>\n",
       "      <td>male</td>\n",
       "      <td>22.0</td>\n",
       "      <td>1</td>\n",
       "      <td>0</td>\n",
       "      <td>A/5 21171</td>\n",
       "      <td>7.2500</td>\n",
       "      <td>NaN</td>\n",
       "      <td>S</td>\n",
       "    </tr>\n",
       "    <tr>\n",
       "      <th>1</th>\n",
       "      <td>2</td>\n",
       "      <td>1</td>\n",
       "      <td>1</td>\n",
       "      <td>Cumings, Mrs. John Bradley (Florence Briggs Th...</td>\n",
       "      <td>female</td>\n",
       "      <td>38.0</td>\n",
       "      <td>1</td>\n",
       "      <td>0</td>\n",
       "      <td>PC 17599</td>\n",
       "      <td>71.2833</td>\n",
       "      <td>C85</td>\n",
       "      <td>C</td>\n",
       "    </tr>\n",
       "    <tr>\n",
       "      <th>2</th>\n",
       "      <td>3</td>\n",
       "      <td>1</td>\n",
       "      <td>3</td>\n",
       "      <td>Heikkinen, Miss. Laina</td>\n",
       "      <td>female</td>\n",
       "      <td>26.0</td>\n",
       "      <td>0</td>\n",
       "      <td>0</td>\n",
       "      <td>STON/O2. 3101282</td>\n",
       "      <td>7.9250</td>\n",
       "      <td>NaN</td>\n",
       "      <td>S</td>\n",
       "    </tr>\n",
       "    <tr>\n",
       "      <th>3</th>\n",
       "      <td>4</td>\n",
       "      <td>1</td>\n",
       "      <td>1</td>\n",
       "      <td>Futrelle, Mrs. Jacques Heath (Lily May Peel)</td>\n",
       "      <td>female</td>\n",
       "      <td>35.0</td>\n",
       "      <td>1</td>\n",
       "      <td>0</td>\n",
       "      <td>113803</td>\n",
       "      <td>53.1000</td>\n",
       "      <td>C123</td>\n",
       "      <td>S</td>\n",
       "    </tr>\n",
       "    <tr>\n",
       "      <th>4</th>\n",
       "      <td>5</td>\n",
       "      <td>0</td>\n",
       "      <td>3</td>\n",
       "      <td>Allen, Mr. William Henry</td>\n",
       "      <td>male</td>\n",
       "      <td>35.0</td>\n",
       "      <td>0</td>\n",
       "      <td>0</td>\n",
       "      <td>373450</td>\n",
       "      <td>8.0500</td>\n",
       "      <td>NaN</td>\n",
       "      <td>S</td>\n",
       "    </tr>\n",
       "  </tbody>\n",
       "</table>\n",
       "</div>"
      ],
      "text/plain": [
       "   PassengerId  Survived  Pclass  \\\n",
       "0            1         0       3   \n",
       "1            2         1       1   \n",
       "2            3         1       3   \n",
       "3            4         1       1   \n",
       "4            5         0       3   \n",
       "\n",
       "                                                Name     Sex   Age  SibSp  \\\n",
       "0                            Braund, Mr. Owen Harris    male  22.0      1   \n",
       "1  Cumings, Mrs. John Bradley (Florence Briggs Th...  female  38.0      1   \n",
       "2                             Heikkinen, Miss. Laina  female  26.0      0   \n",
       "3       Futrelle, Mrs. Jacques Heath (Lily May Peel)  female  35.0      1   \n",
       "4                           Allen, Mr. William Henry    male  35.0      0   \n",
       "\n",
       "   Parch            Ticket     Fare Cabin Embarked  \n",
       "0      0         A/5 21171   7.2500   NaN        S  \n",
       "1      0          PC 17599  71.2833   C85        C  \n",
       "2      0  STON/O2. 3101282   7.9250   NaN        S  \n",
       "3      0            113803  53.1000  C123        S  \n",
       "4      0            373450   8.0500   NaN        S  "
      ]
     },
     "execution_count": 4,
     "metadata": {},
     "output_type": "execute_result"
    }
   ],
   "source": [
    "titanic_data.head()"
   ]
  },
  {
   "cell_type": "code",
   "execution_count": 5,
   "id": "128f39ff",
   "metadata": {
    "ExecuteTime": {
     "end_time": "2023-08-28T18:13:36.690447Z",
     "start_time": "2023-08-28T18:13:36.686334Z"
    }
   },
   "outputs": [
    {
     "data": {
      "text/plain": [
       "(891, 12)"
      ]
     },
     "execution_count": 5,
     "metadata": {},
     "output_type": "execute_result"
    }
   ],
   "source": [
    "titanic_data.shape"
   ]
  },
  {
   "cell_type": "code",
   "execution_count": 6,
   "id": "56dcd964",
   "metadata": {
    "ExecuteTime": {
     "end_time": "2023-08-28T18:14:30.350968Z",
     "start_time": "2023-08-28T18:14:30.343691Z"
    }
   },
   "outputs": [
    {
     "name": "stdout",
     "output_type": "stream",
     "text": [
      "<class 'pandas.core.frame.DataFrame'>\n",
      "RangeIndex: 891 entries, 0 to 890\n",
      "Data columns (total 12 columns):\n",
      " #   Column       Non-Null Count  Dtype  \n",
      "---  ------       --------------  -----  \n",
      " 0   PassengerId  891 non-null    int64  \n",
      " 1   Survived     891 non-null    int64  \n",
      " 2   Pclass       891 non-null    int64  \n",
      " 3   Name         891 non-null    object \n",
      " 4   Sex          891 non-null    object \n",
      " 5   Age          714 non-null    float64\n",
      " 6   SibSp        891 non-null    int64  \n",
      " 7   Parch        891 non-null    int64  \n",
      " 8   Ticket       891 non-null    object \n",
      " 9   Fare         891 non-null    float64\n",
      " 10  Cabin        204 non-null    object \n",
      " 11  Embarked     889 non-null    object \n",
      "dtypes: float64(2), int64(5), object(5)\n",
      "memory usage: 83.7+ KB\n"
     ]
    }
   ],
   "source": [
    "# getting some informations about the data\n",
    "titanic_data.info()"
   ]
  },
  {
   "cell_type": "code",
   "execution_count": 7,
   "id": "6f399f48",
   "metadata": {
    "ExecuteTime": {
     "end_time": "2023-08-28T18:18:09.781022Z",
     "start_time": "2023-08-28T18:18:09.775719Z"
    }
   },
   "outputs": [
    {
     "data": {
      "text/plain": [
       "PassengerId      0\n",
       "Survived         0\n",
       "Pclass           0\n",
       "Name             0\n",
       "Sex              0\n",
       "Age            177\n",
       "SibSp            0\n",
       "Parch            0\n",
       "Ticket           0\n",
       "Fare             0\n",
       "Cabin          687\n",
       "Embarked         2\n",
       "dtype: int64"
      ]
     },
     "execution_count": 7,
     "metadata": {},
     "output_type": "execute_result"
    }
   ],
   "source": [
    "titanic_data.isnull().sum()"
   ]
  },
  {
   "cell_type": "markdown",
   "id": "00e46684",
   "metadata": {},
   "source": [
    "#### Handling the Missing values"
   ]
  },
  {
   "cell_type": "code",
   "execution_count": null,
   "id": "e0e0d087",
   "metadata": {
    "ExecuteTime": {
     "end_time": "2023-08-28T16:48:20.754364Z",
     "start_time": "2023-08-28T16:48:20.750598Z"
    }
   },
   "outputs": [],
   "source": [
    "titanic_data = titanic_data.drop(columns='Cabin', axis=1)"
   ]
  },
  {
   "cell_type": "code",
   "execution_count": null,
   "id": "27e94d35",
   "metadata": {
    "ExecuteTime": {
     "end_time": "2023-08-28T16:48:20.946673Z",
     "start_time": "2023-08-28T16:48:20.943636Z"
    }
   },
   "outputs": [],
   "source": [
    "# replacing the missing values in \"Age\" column with mean value\n",
    "titanic_data['Age'].fillna(titanic_data['Age'].mean(), inplace=True)"
   ]
  },
  {
   "cell_type": "code",
   "execution_count": null,
   "id": "b0a11cbc",
   "metadata": {
    "ExecuteTime": {
     "end_time": "2023-08-28T16:48:21.134002Z",
     "start_time": "2023-08-28T16:48:21.130726Z"
    }
   },
   "outputs": [],
   "source": [
    "# finding the mode value of \"Embarked\" column\n",
    "print(titanic_data['Embarked'].mode())"
   ]
  },
  {
   "cell_type": "code",
   "execution_count": null,
   "id": "e40c151f",
   "metadata": {
    "ExecuteTime": {
     "end_time": "2023-08-28T16:48:21.315193Z",
     "start_time": "2023-08-28T16:48:21.311578Z"
    }
   },
   "outputs": [],
   "source": [
    "print(titanic_data['Embarked'].mode()[0])"
   ]
  },
  {
   "cell_type": "code",
   "execution_count": null,
   "id": "fa4fcf6a",
   "metadata": {
    "ExecuteTime": {
     "end_time": "2023-08-28T16:48:21.506865Z",
     "start_time": "2023-08-28T16:48:21.502990Z"
    }
   },
   "outputs": [],
   "source": [
    "# replacing the missing values in \"Embarked\" column with mode value\n",
    "titanic_data['Embarked'].fillna(titanic_data['Embarked'].mode()[0], inplace=True)"
   ]
  },
  {
   "cell_type": "code",
   "execution_count": null,
   "id": "d8f6e67a",
   "metadata": {
    "ExecuteTime": {
     "end_time": "2023-08-28T16:48:21.703314Z",
     "start_time": "2023-08-28T16:48:21.698816Z"
    }
   },
   "outputs": [],
   "source": [
    "# check the number of missing values in each column\n",
    "titanic_data.isnull().sum()"
   ]
  },
  {
   "cell_type": "markdown",
   "id": "40f3dfd8",
   "metadata": {},
   "source": [
    "#### Data Analysis"
   ]
  },
  {
   "cell_type": "code",
   "execution_count": null,
   "id": "d992f210",
   "metadata": {
    "ExecuteTime": {
     "end_time": "2023-08-28T16:48:22.096772Z",
     "start_time": "2023-08-28T16:48:22.079242Z"
    }
   },
   "outputs": [],
   "source": [
    "# getting some statistical measures about the data\n",
    "titanic_data.describe()"
   ]
  },
  {
   "cell_type": "code",
   "execution_count": null,
   "id": "7dc751b1",
   "metadata": {
    "ExecuteTime": {
     "end_time": "2023-08-28T16:48:22.275060Z",
     "start_time": "2023-08-28T16:48:22.270134Z"
    }
   },
   "outputs": [],
   "source": [
    "# finding the number of people survived and not survived\n",
    "titanic_data['Survived'].value_counts()"
   ]
  },
  {
   "cell_type": "markdown",
   "id": "9e89d12f",
   "metadata": {},
   "source": [
    "#### Data Visualization"
   ]
  },
  {
   "cell_type": "code",
   "execution_count": null,
   "id": "e9c3260b",
   "metadata": {
    "ExecuteTime": {
     "end_time": "2023-08-28T16:48:22.658254Z",
     "start_time": "2023-08-28T16:48:22.655640Z"
    }
   },
   "outputs": [],
   "source": [
    "sns.set()"
   ]
  },
  {
   "cell_type": "code",
   "execution_count": null,
   "id": "76ab1433",
   "metadata": {
    "ExecuteTime": {
     "end_time": "2023-08-28T16:48:23.345837Z",
     "start_time": "2023-08-28T16:48:22.839851Z"
    }
   },
   "outputs": [],
   "source": [
    "# making a count plot for \"Survived\" column\n",
    "sns.countplot(titanic_data, x='Survived')"
   ]
  },
  {
   "cell_type": "code",
   "execution_count": null,
   "id": "bba04ba6",
   "metadata": {
    "ExecuteTime": {
     "end_time": "2023-08-28T16:48:23.758894Z",
     "start_time": "2023-08-28T16:48:23.653481Z"
    }
   },
   "outputs": [],
   "source": [
    "# making a count plot for \"Pclass\" column\n",
    "sns.countplot(titanic_data, x='Pclass')"
   ]
  },
  {
   "cell_type": "code",
   "execution_count": null,
   "id": "322136ae",
   "metadata": {
    "ExecuteTime": {
     "end_time": "2023-08-28T16:48:23.965076Z",
     "start_time": "2023-08-28T16:48:23.830953Z"
    }
   },
   "outputs": [],
   "source": [
    "sns.countplot(titanic_data, hue='Survived', x='Pclass')"
   ]
  },
  {
   "cell_type": "markdown",
   "id": "20108cc3",
   "metadata": {},
   "source": [
    "#### Encoding the Categorical Columns"
   ]
  },
  {
   "cell_type": "code",
   "execution_count": null,
   "id": "c034ed31",
   "metadata": {
    "ExecuteTime": {
     "end_time": "2023-08-28T16:48:24.238716Z",
     "start_time": "2023-08-28T16:48:24.234036Z"
    }
   },
   "outputs": [],
   "source": [
    "titanic_data['Sex'].value_counts()"
   ]
  },
  {
   "cell_type": "code",
   "execution_count": null,
   "id": "d4682d39",
   "metadata": {
    "ExecuteTime": {
     "end_time": "2023-08-28T16:48:24.447149Z",
     "start_time": "2023-08-28T16:48:24.441753Z"
    }
   },
   "outputs": [],
   "source": [
    "titanic_data['Embarked'].value_counts()"
   ]
  },
  {
   "cell_type": "code",
   "execution_count": null,
   "id": "ad52719c",
   "metadata": {
    "ExecuteTime": {
     "end_time": "2023-08-28T16:48:24.646458Z",
     "start_time": "2023-08-28T16:48:24.641185Z"
    }
   },
   "outputs": [],
   "source": [
    "# converting categorical Columns\n",
    "\n",
    "titanic_data.replace({'Sex':{'male':0,'female':1}, 'Embarked':{'S':0,'C':1,'Q':2}}, inplace=True)"
   ]
  },
  {
   "cell_type": "code",
   "execution_count": null,
   "id": "c5a250b5",
   "metadata": {
    "ExecuteTime": {
     "end_time": "2023-08-28T16:48:24.850236Z",
     "start_time": "2023-08-28T16:48:24.842549Z"
    }
   },
   "outputs": [],
   "source": [
    "titanic_data.head()"
   ]
  },
  {
   "cell_type": "markdown",
   "id": "a1edb3f7",
   "metadata": {},
   "source": [
    "### Separating features & Target"
   ]
  },
  {
   "cell_type": "code",
   "execution_count": null,
   "id": "4e9c409b",
   "metadata": {
    "ExecuteTime": {
     "end_time": "2023-08-28T16:48:25.237723Z",
     "start_time": "2023-08-28T16:48:25.233563Z"
    }
   },
   "outputs": [],
   "source": [
    "X = titanic_data.drop(columns = ['PassengerId','Name','Ticket','Survived'],axis=1)\n",
    "Y = titanic_data['Survived']"
   ]
  },
  {
   "cell_type": "code",
   "execution_count": null,
   "id": "59c66213",
   "metadata": {
    "ExecuteTime": {
     "end_time": "2023-08-28T16:48:25.449037Z",
     "start_time": "2023-08-28T16:48:25.442679Z"
    }
   },
   "outputs": [],
   "source": [
    "print(X)"
   ]
  },
  {
   "cell_type": "code",
   "execution_count": null,
   "id": "8a190c4a",
   "metadata": {
    "ExecuteTime": {
     "end_time": "2023-08-28T16:48:25.629024Z",
     "start_time": "2023-08-28T16:48:25.625027Z"
    }
   },
   "outputs": [],
   "source": [
    "print(Y)"
   ]
  },
  {
   "cell_type": "markdown",
   "id": "d22e34de",
   "metadata": {},
   "source": [
    "### Splitting the data into training data & Test data"
   ]
  },
  {
   "cell_type": "code",
   "execution_count": null,
   "id": "9f8df22d",
   "metadata": {
    "ExecuteTime": {
     "end_time": "2023-08-28T16:48:26.033543Z",
     "start_time": "2023-08-28T16:48:26.028116Z"
    }
   },
   "outputs": [],
   "source": [
    "X_train, X_test, Y_train, Y_test = train_test_split(X,Y, test_size=0.2, random_state=2)"
   ]
  },
  {
   "cell_type": "code",
   "execution_count": null,
   "id": "55b40b4b",
   "metadata": {
    "ExecuteTime": {
     "end_time": "2023-08-28T16:48:26.232453Z",
     "start_time": "2023-08-28T16:48:26.229093Z"
    }
   },
   "outputs": [],
   "source": [
    "print(X.shape, X_train.shape, X_test.shape)"
   ]
  },
  {
   "cell_type": "markdown",
   "id": "b3cb3963",
   "metadata": {},
   "source": [
    "### Model Training"
   ]
  },
  {
   "cell_type": "code",
   "execution_count": null,
   "id": "62e40a48",
   "metadata": {
    "ExecuteTime": {
     "end_time": "2023-08-28T16:48:26.632182Z",
     "start_time": "2023-08-28T16:48:26.629186Z"
    }
   },
   "outputs": [],
   "source": [
    "model = LogisticRegression()"
   ]
  },
  {
   "cell_type": "code",
   "execution_count": null,
   "id": "4ccf7df9",
   "metadata": {
    "ExecuteTime": {
     "end_time": "2023-08-28T16:48:26.853011Z",
     "start_time": "2023-08-28T16:48:26.827805Z"
    }
   },
   "outputs": [],
   "source": [
    "# training the Logistic Regression model with training data\n",
    "model.fit(X_train, Y_train)"
   ]
  },
  {
   "cell_type": "markdown",
   "id": "d3ab5323",
   "metadata": {},
   "source": [
    "### Model Evaluation"
   ]
  },
  {
   "cell_type": "code",
   "execution_count": null,
   "id": "1683a45d",
   "metadata": {
    "ExecuteTime": {
     "end_time": "2023-08-28T16:48:27.241623Z",
     "start_time": "2023-08-28T16:48:27.237665Z"
    }
   },
   "outputs": [],
   "source": [
    "# accuracy on training data\n",
    "X_train_prediction = model.predict(X_train)"
   ]
  },
  {
   "cell_type": "code",
   "execution_count": null,
   "id": "840ca4ca",
   "metadata": {
    "ExecuteTime": {
     "end_time": "2023-08-28T16:48:27.449391Z",
     "start_time": "2023-08-28T16:48:27.445400Z"
    }
   },
   "outputs": [],
   "source": [
    "print(X_train_prediction)"
   ]
  },
  {
   "cell_type": "code",
   "execution_count": null,
   "id": "98955958",
   "metadata": {
    "ExecuteTime": {
     "end_time": "2023-08-28T16:48:27.732108Z",
     "start_time": "2023-08-28T16:48:27.656086Z"
    }
   },
   "outputs": [],
   "source": [
    "training_data_accuracy = accuracy_score(Y_train, X_train_prediction)\n",
    "print('Accuracy score of training data : ', training_data_accuracy)"
   ]
  },
  {
   "cell_type": "code",
   "execution_count": null,
   "id": "6a645c15",
   "metadata": {
    "ExecuteTime": {
     "end_time": "2023-08-28T16:48:28.100317Z",
     "start_time": "2023-08-28T16:48:28.096109Z"
    }
   },
   "outputs": [],
   "source": [
    "# accuracy on test data\n",
    "X_test_prediction = model.predict(X_test)"
   ]
  },
  {
   "cell_type": "code",
   "execution_count": null,
   "id": "f8fcf817",
   "metadata": {
    "ExecuteTime": {
     "end_time": "2023-08-28T16:48:28.329287Z",
     "start_time": "2023-08-28T16:48:28.321195Z"
    }
   },
   "outputs": [],
   "source": [
    "X_test"
   ]
  },
  {
   "cell_type": "code",
   "execution_count": null,
   "id": "02501b8a",
   "metadata": {
    "ExecuteTime": {
     "end_time": "2023-08-28T16:48:28.538744Z",
     "start_time": "2023-08-28T16:48:28.535051Z"
    }
   },
   "outputs": [],
   "source": [
    "print(X_test_prediction)"
   ]
  },
  {
   "cell_type": "code",
   "execution_count": null,
   "id": "20b618b6",
   "metadata": {
    "ExecuteTime": {
     "end_time": "2023-08-28T16:48:28.756486Z",
     "start_time": "2023-08-28T16:48:28.752586Z"
    }
   },
   "outputs": [],
   "source": [
    "test_data_accuracy = accuracy_score(Y_test, X_test_prediction)\n",
    "print('Accuracy score of test data : ', round(test_data_accuracy, 2))"
   ]
  },
  {
   "cell_type": "markdown",
   "id": "1a88b449",
   "metadata": {},
   "source": [
    "### Save the trained model"
   ]
  },
  {
   "cell_type": "code",
   "execution_count": null,
   "id": "2a1cf2c7",
   "metadata": {
    "ExecuteTime": {
     "end_time": "2023-08-14T17:14:11.477056Z",
     "start_time": "2023-08-14T17:14:11.472141Z"
    }
   },
   "outputs": [],
   "source": [
    "# Save the trained model to a file\n",
    "filename = 'models/titanic_model.sav'\n",
    "pickle.dump(model, open(filename, 'wb'))"
   ]
  },
  {
   "cell_type": "code",
   "execution_count": null,
   "id": "5561b22a",
   "metadata": {
    "ExecuteTime": {
     "end_time": "2023-08-14T17:14:11.481368Z",
     "start_time": "2023-08-14T17:14:11.478062Z"
    }
   },
   "outputs": [],
   "source": [
    "loaded_model = pickle.load(open(\"models/titanic_model.sav\", 'rb'))"
   ]
  },
  {
   "cell_type": "code",
   "execution_count": null,
   "id": "971ac1a8",
   "metadata": {},
   "outputs": [],
   "source": []
  }
 ],
 "metadata": {
  "kernelspec": {
   "display_name": "Python 3 (ipykernel)",
   "language": "python",
   "name": "python3"
  },
  "language_info": {
   "codemirror_mode": {
    "name": "ipython",
    "version": 3
   },
   "file_extension": ".py",
   "mimetype": "text/x-python",
   "name": "python",
   "nbconvert_exporter": "python",
   "pygments_lexer": "ipython3",
   "version": "3.11.4"
  },
  "toc": {
   "base_numbering": 1,
   "nav_menu": {},
   "number_sections": true,
   "sideBar": true,
   "skip_h1_title": true,
   "title_cell": "Table of Contents",
   "title_sidebar": "Contents",
   "toc_cell": true,
   "toc_position": {},
   "toc_section_display": true,
   "toc_window_display": false
  }
 },
 "nbformat": 4,
 "nbformat_minor": 5
}
